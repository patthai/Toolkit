{
 "cells": [
  {
   "cell_type": "code",
   "execution_count": null,
   "metadata": {},
   "outputs": [],
   "source": [
    "\n",
    "import pandas as pd                     \n",
    "from gensim.models import Word2Vec\n",
    "import nltk\n",
    "from nltk.tokenize import word_tokenize\n",
    "\n",
    "import sys, re\n",
    "import numpy as np\n",
    "import matplotlib.pyplot as plt\n",
    "from collections import Counter\n",
    "\n",
    "\n",
    "from xlrd.xldate import *\n",
    "from google.colab import auth\n",
    "auth.authenticate_user()\n",
    "\n",
    "import gspread\n",
    "from oauth2client.client import GoogleCredentials\n",
    "\n",
    "import httplib2\n",
    "from apiclient import discovery\n",
    "\n",
    "\n",
    "\n",
    "gc = gspread.authorize(GoogleCredentials.get_application_default())\n",
    "\n",
    "worksheet = gc.open('Buddha Record').sheet1\n",
    "\n",
    "# get_all_values gives a list of rows.\n",
    "rows = worksheet.get_all_values()\n",
    "print(len(rows))\n",
    "\n",
    "\n",
    "\n",
    "credentials = GoogleCredentials.get_application_default()\n",
    "http = credentials.authorize(httplib2.Http())\n",
    "discoveryUrl = 'https://sheets.googleapis.com/$discovery/rest?version=v4'\n",
    "service = discovery.build('sheets', 'v4', http=http,discoveryServiceUrl=discoveryUrl)\n",
    "\n",
    "spreadsheetId = '17JIbUViNd1ggfr9bYJt94PXGDObVFHZEq0jjVkAPclA'\n",
    "\n",
    "rangeName = 'Sheet1!A2:E'\n",
    "result = service.spreadsheets().values().get(\n",
    "    spreadsheetId=spreadsheetId, \n",
    "    range=rangeName,\n",
    "    valueRenderOption='FORMULA',  # ไม่ต้องแปลง date->value\n",
    "    #dateTimeRenderOption='SERIAL_NUMBER',\n",
    "    ).execute()\n",
    "values = result.get('values', [])\n",
    "\n",
    "\n",
    "\n",
    "xldate_as_tuple(values[0][0], 0)\n",
    "dt = xldate_as_datetime(values[0][0], 0)\n",
    "\n",
    "\n"
   ]
  }
 ],
 "metadata": {
  "kernelspec": {
   "display_name": "Python 3",
   "language": "python",
   "name": "python3"
  },
  "language_info": {
   "codemirror_mode": {
    "name": "ipython",
    "version": 3
   },
   "file_extension": ".py",
   "mimetype": "text/x-python",
   "name": "python",
   "nbconvert_exporter": "python",
   "pygments_lexer": "ipython3",
   "version": "3.7.2"
  }
 },
 "nbformat": 4,
 "nbformat_minor": 2
}
