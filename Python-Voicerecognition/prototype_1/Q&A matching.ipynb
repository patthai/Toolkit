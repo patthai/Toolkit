{
 "cells": [
  {
   "cell_type": "code",
   "execution_count": 3,
   "metadata": {},
   "outputs": [],
   "source": [
    "import sys, re\n",
    "import numpy as np\n",
    "import nltk\n",
    "import random\n",
    "import pandas\n",
    "import gensim.models.keyedvectors as word2vec\n",
    "from nltk.tokenize import word_tokenize\n",
    "from nltk.tag import pos_tag\n",
    "from nltk.corpus import stopwords\n",
    "from pyemd import emd"
   ]
  },
  {
   "cell_type": "code",
   "execution_count": 4,
   "metadata": {},
   "outputs": [],
   "source": [
    "stop_words = set()\n",
    "for word in set(stopwords.words('english')):\n",
    "  stop_words.add(word)\n",
    "  stop_words.add(word.capitalize())\n"
   ]
  },
  {
   "cell_type": "code",
   "execution_count": 5,
   "metadata": {},
   "outputs": [],
   "source": [
    "df = pandas.read_csv('albert-einstein.csv', names = [\"person\", \"page\", \"id\", \"quote\"])\n"
   ]
  },
  {
   "cell_type": "code",
   "execution_count": null,
   "metadata": {},
   "outputs": [],
   "source": [
    "model = word2vec.KeyedVectors.load_word2vec_format(\"GoogleNews-vectors-negative300.bin\", binary=True)"
   ]
  },
  {
   "cell_type": "code",
   "execution_count": 10,
   "metadata": {},
   "outputs": [
    {
     "name": "stdout",
     "output_type": "stream",
     "text": [
      "['celebrate', 'birthday']\n",
      " Who would have thought around 1900 that in fifty years time we would know so much more and understand so much less.\n"
     ]
    }
   ],
   "source": [
    "def qa(input):\n",
    "    user_text = input.replace('hey einstein','')\n",
    "    user_text = user_text.lower().split()\n",
    "    user_text = [w for w in user_text if w not in stop_words]\n",
    "    #print (user_text)\n",
    "    df2 = pandas.DataFrame(columns=['quote','quote_similarity'])\n",
    "    quotes = df.quote.astype(str)\n",
    "    for quote in quotes:\n",
    "        quote_split = quote.lower().split()\n",
    "        quote_split = [w for w in quote_split if w not in stop_words]\n",
    "        distance = model.wmdistance(user_text, quote_split)\n",
    "            #print (distance)\n",
    "        df2 = df2.append({'quote': quote, 'quote_similarity': distance}, ignore_index=True)\n",
    "    df2['Rank'] = df2['quote_similarity'].rank(ascending=1)\n",
    "        \n",
    "    #df2.sort_values(by=['quote_similarity'])\n",
    "    answers = df2.sort_values(by=['quote_similarity']).reset_index().quote.astype(str)\n",
    "    answer_choice = random.randint(1, 3)\n",
    "    print (answers[answer_choice])\n",
    "\n",
    "user_voice = \"hey einstein what should I do to celebrate my birthday\".lower()\n",
    "if user_voice.find('hey einstein') != -1:\n",
    "    qa(user_voice)\n"
   ]
  },
  {
   "cell_type": "code",
   "execution_count": 237,
   "metadata": {},
   "outputs": [
    {
     "name": "stdout",
     "output_type": "stream",
     "text": [
      "['celebrate', 'birthday']\n",
      " I don't know, I don't care, and it doesn't make any difference!\n"
     ]
    }
   ],
   "source": []
  },
  {
   "cell_type": "code",
   "execution_count": null,
   "metadata": {},
   "outputs": [],
   "source": []
  }
 ],
 "metadata": {
  "kernelspec": {
   "display_name": "Python 3",
   "language": "python",
   "name": "python3"
  },
  "language_info": {
   "codemirror_mode": {
    "name": "ipython",
    "version": 3
   },
   "file_extension": ".py",
   "mimetype": "text/x-python",
   "name": "python",
   "nbconvert_exporter": "python",
   "pygments_lexer": "ipython3",
   "version": "3.6.6"
  }
 },
 "nbformat": 4,
 "nbformat_minor": 2
}
