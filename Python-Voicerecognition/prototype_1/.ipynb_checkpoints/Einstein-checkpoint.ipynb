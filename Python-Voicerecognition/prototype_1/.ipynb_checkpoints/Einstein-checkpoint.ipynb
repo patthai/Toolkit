{
 "cells": [
  {
   "cell_type": "code",
   "execution_count": 17,
   "metadata": {},
   "outputs": [],
   "source": [
    "import pyttsx3;\n",
    "import pandas\n",
    "import sys, re\n",
    "import numpy as np\n",
    "import nltk\n",
    "import random\n",
    "import gensim.models.keyedvectors as word2vec\n",
    "import speech_recognition as sr\n",
    "from nltk.tokenize import word_tokenize\n",
    "from nltk.tag import pos_tag\n",
    "from nltk.corpus import stopwords\n",
    "from pyemd import emd"
   ]
  },
  {
   "cell_type": "code",
   "execution_count": 2,
   "metadata": {},
   "outputs": [],
   "source": [
    "model = word2vec.KeyedVectors.load_word2vec_format(\"GoogleNews-vectors-negative300.bin\", binary=True)"
   ]
  },
  {
   "cell_type": "code",
   "execution_count": 12,
   "metadata": {},
   "outputs": [
    {
     "name": "stdout",
     "output_type": "stream",
     "text": [
      "Microphone with name \"Built-in Microphone\" found for `Microphone(device_index=0)`\n",
      "Microphone with name \"Built-in Output\" found for `Microphone(device_index=1)`\n",
      "Microphone with name \"HDMI\" found for `Microphone(device_index=2)`\n",
      "Microphone with name \"Soundflower (2ch)\" found for `Microphone(device_index=3)`\n",
      "Microphone with name \"Soundflower (64ch)\" found for `Microphone(device_index=4)`\n",
      "Microphone with name \"ACE Sound Effects\" found for `Microphone(device_index=5)`\n",
      "Microphone with name \"Loopback Audio\" found for `Microphone(device_index=6)`\n"
     ]
    }
   ],
   "source": [
    "#PREP\n",
    "\n",
    "# Record Audio\n",
    "r = sr.Recognizer()\n",
    "\n",
    "for index, name in enumerate(sr.Microphone.list_microphone_names()):\n",
    "    print(\"Microphone with name \\\"{1}\\\" found for `Microphone(device_index={0})`\".format(index, name))\n",
    "\n",
    "df = pandas.read_csv('albert-einstein.csv', names = [\"person\", \"page\", \"id\", \"quote\"])\n",
    "\n",
    "\n",
    "stop_words = set()\n",
    "for word in set(stopwords.words('english')):\n",
    "  stop_words.add(word)\n",
    "  stop_words.add(word.capitalize())\n"
   ]
  },
  {
   "cell_type": "code",
   "execution_count": null,
   "metadata": {},
   "outputs": [],
   "source": [
    "def speak(input):\n",
    "    engine = pyttsx3.init()\n",
    "    voices = engine.getProperty('voices')\n",
    "    engine.setProperty('voice',\"com.apple.speech.synthesis.voice.maged\") #changing index changes voices but ony 0 and 1 are working here\n",
    "    engine.say(input)\n",
    "    engine.runAndWait()\n",
    "    engine.stop()\n",
    "    listen()\n",
    "speak(\"what is it\")"
   ]
  },
  {
   "cell_type": "code",
   "execution_count": null,
   "metadata": {},
   "outputs": [],
   "source": [
    "def speak(input):\n",
    "    engine = pyttsx3.init()\n",
    "    voices = engine.getProperty('voices')\n",
    "    engine.setProperty('voice',\"com.apple.speech.synthesis.voice.jorge\") #changing index changes voices but ony 0 and 1 are working here\n",
    "    engine.say(input)\n",
    "    engine.runAndWait()\n",
    "    engine.stop()\n",
    "    listen()\n",
    "    listen()\n",
    "\n",
    "def qa(input):\n",
    "    user_text = input.replace('hey einstein','')\n",
    "    user_text = user_text.lower().split()\n",
    "    user_text = [w for w in user_text if w not in stop_words]\n",
    "    #print (user_text)\n",
    "    df2 = pandas.DataFrame(columns=['quote','quote_similarity'])\n",
    "    quotes = df.quote.astype(str)\n",
    "    for quote in quotes:\n",
    "        quote_split = quote.lower().split()\n",
    "        quote_split = [w for w in quote_split if w not in stop_words]\n",
    "        distance = model.wmdistance(user_text, quote_split)\n",
    "            #print (distance)\n",
    "        df2 = df2.append({'quote': quote, 'quote_similarity': distance}, ignore_index=True)\n",
    "    df2['Rank'] = df2['quote_similarity'].rank(ascending=1)\n",
    "        \n",
    "    #df2.sort_values(by=['quote_similarity'])\n",
    "    answers = df2.sort_values(by=['quote_similarity']).reset_index().quote.astype(str)\n",
    "    answer_choice = random.randint(1, 3)\n",
    "    answer = answers[answer_choice]\n",
    "    speak(answer)\n",
    "    \n",
    "def listen():\n",
    "  \n",
    "    with sr.Microphone() as source:\n",
    "        print(\"Say something!\")\n",
    "        audio = r.record(source, duration = 6)\n",
    "    try:\n",
    "        print(\"You said: \" + r.recognize_google(audio))\n",
    "        user_voice = r.recognize_google(audio).lower()\n",
    "        if user_voice.find('hey einstein') != -1:\n",
    "            qa(user_voice)\n",
    "        else:\n",
    "            listen()\n",
    "        \n",
    "    except sr.UnknownValueError:\n",
    "        #print(\"Google Speech Recognition could not understand audio\")\n",
    "        listen()\n",
    "    except sr.RequestError as e:\n",
    "        #print(\"Could not request results from Google Speech Recognition service; {0}\".format(e))\n",
    "        listen()\n",
    " \n",
    "listen()"
   ]
  },
  {
   "cell_type": "code",
   "execution_count": null,
   "metadata": {},
   "outputs": [],
   "source": []
  }
 ],
 "metadata": {
  "kernelspec": {
   "display_name": "Python 3",
   "language": "python",
   "name": "python3"
  },
  "language_info": {
   "codemirror_mode": {
    "name": "ipython",
    "version": 3
   },
   "file_extension": ".py",
   "mimetype": "text/x-python",
   "name": "python",
   "nbconvert_exporter": "python",
   "pygments_lexer": "ipython3",
   "version": "3.6.6"
  }
 },
 "nbformat": 4,
 "nbformat_minor": 2
}
