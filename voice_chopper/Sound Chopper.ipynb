{
 "cells": [
  {
   "cell_type": "code",
   "execution_count": 7,
   "metadata": {},
   "outputs": [
    {
     "name": "stdout",
     "output_type": "stream",
     "text": [
      "188630\n",
      "0\n",
      "10000\n",
      "10000\n",
      "20000\n",
      "20000\n",
      "30000\n",
      "30000\n",
      "40000\n",
      "40000\n",
      "50000\n",
      "50000\n",
      "60000\n",
      "60000\n",
      "70000\n",
      "70000\n",
      "80000\n",
      "80000\n",
      "90000\n",
      "90000\n",
      "100000\n",
      "100000\n",
      "110000\n",
      "110000\n",
      "120000\n",
      "120000\n",
      "130000\n",
      "130000\n",
      "140000\n",
      "140000\n",
      "150000\n",
      "150000\n",
      "160000\n",
      "160000\n",
      "170000\n",
      "170000\n",
      "180000\n",
      "180000\n",
      "190000\n"
     ]
    }
   ],
   "source": [
    "from pydub import AudioSegment\n",
    "input_name = \"Typing\"\n",
    "input_name_type = input_name+\".mp3\"\n",
    "sound = AudioSegment.from_mp3(input_name_type)\n",
    "sound_length = len(sound)\n",
    "print (sound_length)\n",
    "\n",
    "\n",
    "chop_period = 10000\n",
    "begin_site = 0\n",
    "end_site = 0\n",
    "count = 0\n",
    "\n",
    "def chop():\n",
    "    global begin_site\n",
    "    global end_site\n",
    "    global chop_period\n",
    "    global count\n",
    "    begin_site = end_site\n",
    "    end_site = end_site + chop_period\n",
    "    print (begin_site)\n",
    "    print (end_site)\n",
    "    \n",
    "    output_sound = sound[begin_site : end_site]\n",
    "    file_name = \"pre_process/\"+input_name+\"_\"+str(count)+\".wav\"\n",
    "    output_sound.export(file_name, format=\"wav\")\n",
    "    \n",
    "    #file_name = \"pre_process/\"+input_name+\"_\"+str(count)+\".mp3\"\n",
    "    #output_sound.export(file_name, format=\"mp3\")\n",
    "    \n",
    "    count=count+1\n",
    "    \n",
    "    if (end_site < sound_length):\n",
    "        chop()\n",
    "        \n",
    "    \n",
    "chop()    \n",
    "\n"
   ]
  },
  {
   "cell_type": "code",
   "execution_count": null,
   "metadata": {},
   "outputs": [],
   "source": []
  }
 ],
 "metadata": {
  "kernelspec": {
   "display_name": "Python 3",
   "language": "python",
   "name": "python3"
  },
  "language_info": {
   "codemirror_mode": {
    "name": "ipython",
    "version": 3
   },
   "file_extension": ".py",
   "mimetype": "text/x-python",
   "name": "python",
   "nbconvert_exporter": "python",
   "pygments_lexer": "ipython3",
   "version": "3.7.2"
  }
 },
 "nbformat": 4,
 "nbformat_minor": 2
}
