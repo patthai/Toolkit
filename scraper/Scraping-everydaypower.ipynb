{
 "cells": [
  {
   "cell_type": "code",
   "execution_count": 1,
   "metadata": {},
   "outputs": [],
   "source": [
    "from scrape_script import simple_get\n",
    "from bs4 import BeautifulSoup"
   ]
  },
  {
   "cell_type": "code",
   "execution_count": 2,
   "metadata": {},
   "outputs": [],
   "source": [
    "raw_html = simple_get('https://realpython.com/blog/')"
   ]
  },
  {
   "cell_type": "code",
   "execution_count": 3,
   "metadata": {},
   "outputs": [
    {
     "data": {
      "text/plain": [
       "288084"
      ]
     },
     "execution_count": 3,
     "metadata": {},
     "output_type": "execute_result"
    }
   ],
   "source": [
    "len(raw_html)"
   ]
  },
  {
   "cell_type": "code",
   "execution_count": 52,
   "metadata": {},
   "outputs": [
    {
     "name": "stdout",
     "output_type": "stream",
     "text": [
      "Motivational Marie Curie quotes that will inspire you to live your best life. Marie Curie reminds us that greatness does not come easy or fast, but is reachabe for all!\n",
      "Decide. Have fun and get started! The world is waiting for you to reveal your gift!\n",
      "Enjoy this collection of amazing Marie Curie quotes!\n",
      "1.) Life is not easy for any of us. But what of that? We must have perseverance and above all confidence in ourselves. We must believe that we are gifted for something and that this thing must be attained. – Marie Curie\n",
      " \n",
      "2.) Nothing in life is to be feared, it is only to be understood. Now is the time to understand more, so that we may fear less. – Marie Curie\n",
      " \n",
      "3.) One never notices what has been done; one can only see what remains to be done. – Marie Curie\n",
      " \n",
      "4.) A scientist in his laboratory is not a mere technician: he is also a child confronting natural phenomena that impress him as though they were fairy tales. – Marie Curie\n",
      " \n",
      "5.) Be less curious about people and more curious about ideas. – Marie Curie\n",
      " \n",
      "6.) I was taught that the way of progress was neither swift nor easy. – Marie Curie\n",
      " \n",
      "7.) There are sadistic scientists who hurry to hunt down errors instead of establishing the truth. – Marie Curie\n",
      "   \n",
      "8.) I am one of those who think like Nobel, that humanity will draw more good than evil from new discoveries. – Marie Curie\n",
      " \n",
      "9.) I have frequently been questioned, especially by women, of how I could reconcile family life with a scientific career. Well, it has not been easy. – Marie Curie\n",
      " \n",
      "10.) All my life through, the new sights of Nature made me rejoice like a child. – Marie Curie\n",
      " \n",
      "11.) You cannot hope to build a better world without improving the individuals. To that end each of us must work for his own improvement, and at the same time share a general responsibility for all humanity, our particular duty being to aid those to whom we think we can be most useful. – Marie Curie\n",
      " \n",
      "12.) I am among those who think that science has great beauty. – Marie Curie\n",
      "13.) Humanity needs practical men, who get the most out of their work, and, without forgetting the general good, safeguard their own interests. But humanity also needs dreamers, for whom the disinterested development of an enterprise is so captivating that it becomes impossible for them to devote their care to their own material profit. – Marie Curie\n",
      " \n",
      "14.) We must have perseverance and above all confidence in ourselves. We must believe that we are gifted for something. – Marie Curie\n",
      " \n",
      "15.) Scientist believe in things, not in person – Marie Curie\n",
      " \n",
      "16.) We must not forget that when radium was discovered no one knew that it would prove useful in hospitals. The work was one of pure science. And this is a proof that scientific work must not be considered from the point of view of the direct usefulness of it. It must be done for itself, for the beauty of science, and then there is always the chance that a scientific discovery may become like the radium a benefit for mankind. ” – Marie Curie\n",
      " \n",
      "17.) Certein bodies… become luminous when heated. Their luminosity disappears after some time, but the capacity of becoming luminous afresh through heat is restored to them by the action of a spark, and also by the action of radium. – Marie Curie\n",
      " \n",
      "18.) Radium is not to enrich any one. It is an element; it is for all people. – Marie Curie\n",
      " \n",
      "19.) So perished the hope founded on the wonderful being who thus ceased to be. In the study room to which he was never to return, the water buttercups he had brought from the country were still fresh. – Marie Curie\n",
      " \n",
      "20.) You must never be fearful of what you are doing when it is right – Marie Curie\n",
      "21.) We must believe that we are gifted for something, and that this thing, at whatever cost, must be attained. – Marie Curie\n",
      " \n",
      "22.) When one studies strongly radioactive substances special precautions must be taken. Dust, the air of the room, and one’s clothes, all become radioactive. – Marie Curie\n",
      " \n",
      "23.) After all, science is essentially international, and it is only through lack of the historical sense that national qualities have been attributed to it. – Marie Curie\n",
      " \n",
      "24.) I have no dress except the one I wear every day. If you are going to be kind enough to give me one, please let it be practical and dark so that I can put it on afterwards to go to the laboratory. about a wedding dress – Marie Curie\n",
      " \n",
      "25.) In science we must be interested in things, not in persons. – Marie Curie\n",
      " \n",
      "26.) It was like a new world opened to me, the world of science, which I was at last permitted to know in all liberty. – Marie Curie\n",
      " \n",
      "27.) Sometimes my courage fails me and I think I ought to stop working, live in the country and devote myself to gardening. But I am held by a thousand bonds, and I don’t know when I shall be able to arrange things otherwise. Nor do I know whether, even by writing scientific books, I could live without the laboratory. – Marie Curie\n",
      " \n",
      "28.) The various reasons which we have enumerated lead us to believe that the new radio-active substance contains a new element which we propose to give the name of radium. – Marie Curie\n",
      " \n",
      "29.) This means that we have here an entirely separate kind of chemistry for which the current tool we use is the electrometer, not the balance, and which we might well call the chemistry of the imponderable. – Marie Curie\n",
      "\n",
      "30.) We cannot hope to build a better world without improving the individual. Toward this end, each of us must work for his own highest development, accepting at the same time his share of responsibility in the general life of humanity—our particular duty being to aid those to whom we think we can be most useful. – Marie Curie\n",
      "31.) “I believe international work is a heavy task, but that it is nevertheless indispensable to go through an apprenticeship in it, at the cost of many efforts and also of a real spirit of sacrifice: however imperfect it may be, the work of Geneva has a grandeur that deserves our support.” – Marie Curie\n",
      " \n",
      "32.) It is my earnest desire that some of you should carry on this scientific work and keep for your ambition the determination to make a permanent contribution to science.” – Marie Curie\n",
      " \n",
      "33.) We must act.” – Marie Curie\n",
      " \n",
      "34.) “Without doubt, these dreamers do not deserve wealth, because they do not desire it. Even so, a well-organized society should assure to such workers the efficient means of accomplishing their task, in a life freed from material care and freely consecr” – Marie Curie\n",
      " \n",
      "35.) We have no money, no laboratory and no help in the conduct of this important and difficult task. It was like creating something out of nothing – Marie Curie\n",
      " \n",
      " \n",
      "36.) It is important to make a dream of life and of a dream reality. – Marie Curie\n",
      " \n",
      "37.) Each of us must work for his own improvement, and at the same time share a general responsibility for all humanity, our particular duty being to aid those to whom we think we can be most useful. – Marie Curie\n",
      "38.) A great discovery does not issue from a scientists brain ready-made, like Minerva springing fully armed from Jupiter’s head; it is the fruit of an accumulation of preliminary work. – Marie Curie\n",
      " \n",
      "39.) First principle: never to let one’s self be beaten down by persons or events. – Marie Curie\n",
      "\n",
      "40.) You’ll never make me believe women were made to walk on stilts. – Marie Curie\n",
      " \n",
      "41.) There is nothing more wonderful than being a scientist, nowhere I would rather be than in my lab, staining up my clothes and getting paid to play. – Marie Curie\n",
      " \n",
      "42.) There is no connection between my scientific work and the facts of private life. – Marie Curie\n",
      " \n",
      "43.) Men of moral and intellectual distinction could scarcely agree to teach in schools where an alien attitude was forced upon them. – Marie Curie\n",
      " \n",
      "44.) Have no fear of perfection; you’ll never reach it. – Marie Curie\n",
      " \n",
      "45.) One of our pleasures was to enter our workshop at night; then, all around us we would see the luminous silhouettes of the beakers and capsules that contained our products. – Marie Curie\n",
      " \n",
      "46.) This abnormal situation resulted in exciting the patriotic feeling of Polish youths to the highest degree. – Marie Curie\n",
      " \n",
      "47.) I continued my efforts to educate myself. This was no easy task under the Russian government of Warsaw; yet I found more opportunities than in the country. – Marie Curie\n",
      " \n",
      "48.) It can be easily understood that there was no place in our life for worldly relations. – Marie Curie\n",
      "\n",
      " \n",
      "Tell us in the comment section!\n"
     ]
    }
   ],
   "source": [
    "#Example\n",
    "raw_html = simple_get('https://everydaypowerblog.com/marie-curie-quotes/')\n",
    "html = BeautifulSoup(raw_html, 'html.parser')\n",
    "\n",
    "paragraph =  html.find(\"div\", {\"id\": \"mvp-content-main\"}).findAll('p')\n",
    "for element in paragraph:\n",
    "    print (element.text)"
   ]
  },
  {
   "cell_type": "code",
   "execution_count": 43,
   "metadata": {},
   "outputs": [
    {
     "name": "stdout",
     "output_type": "stream",
     "text": [
      "Motivational Marie Curie quotes that will inspire you to live your best life. Marie Curie reminds us that greatness does not come easy or fast, but is reachabe for all!\n"
     ]
    }
   ],
   "source": [
    "for x in paragraph: \n",
    "    print (x.find ('p').text)"
   ]
  },
  {
   "cell_type": "code",
   "execution_count": 21,
   "metadata": {},
   "outputs": [],
   "source": [
    "raw_html = simple_get('https://theysaidso.com/quotes/author/albert-einstein/1')\n",
    "html = BeautifulSoup(raw_html, 'html.parser')"
   ]
  },
  {
   "cell_type": "code",
   "execution_count": null,
   "metadata": {},
   "outputs": [],
   "source": [
    "#IMPORTANT Manueal : https://www.crummy.com/software/BeautifulSoup/bs4/doc/"
   ]
  },
  {
   "cell_type": "code",
   "execution_count": null,
   "metadata": {},
   "outputs": [],
   "source": [
    "for p in html.findAll('span', {'itemprop': 'text'}):\n",
    "    print (p.text)\n",
    "    print(\" \")"
   ]
  },
  {
   "cell_type": "markdown",
   "metadata": {},
   "source": [
    "# RUN THIS"
   ]
  },
  {
   "cell_type": "code",
   "execution_count": 54,
   "metadata": {},
   "outputs": [],
   "source": [
    "author_name = \"marie-curie\""
   ]
  },
  {
   "cell_type": "code",
   "execution_count": 79,
   "metadata": {},
   "outputs": [],
   "source": [
    "import csv\n",
    "import re\n",
    "i = 0\n",
    "with open(author_name+'.csv', 'w', newline='') as csvfile:\n",
    "    writer = csv.writer(csvfile)\n",
    "    raw_html = simple_get('https://everydaypowerblog.com/marie-curie-quotes/')\n",
    "    html = BeautifulSoup(raw_html, 'html.parser')\n",
    "    paragraph =  html.find(\"div\", {\"id\": \"mvp-content-main\"}).findAll('p')\n",
    "    for element in paragraph:\n",
    "        quote = element.text\n",
    "        if quote.strip():\n",
    "            quote = quote.replace(\".)\", \"\", 1)\n",
    "            quote = quote.replace(\"– Marie Curie\", \"\", 1)  \n",
    "            if quote[0].isupper()== False:\n",
    "                quote = re.sub(r'\\d+', '', quote)\n",
    "                writer.writerow([author_name,\"page = 1\", \"id = \"+ str(i), quote])\n",
    "                i = i+1"
   ]
  },
  {
   "cell_type": "code",
   "execution_count": null,
   "metadata": {},
   "outputs": [],
   "source": []
  },
  {
   "cell_type": "code",
   "execution_count": null,
   "metadata": {},
   "outputs": [],
   "source": []
  },
  {
   "cell_type": "code",
   "execution_count": null,
   "metadata": {},
   "outputs": [],
   "source": []
  }
 ],
 "metadata": {
  "kernelspec": {
   "display_name": "Python 3",
   "language": "python",
   "name": "python3"
  },
  "language_info": {
   "codemirror_mode": {
    "name": "ipython",
    "version": 3
   },
   "file_extension": ".py",
   "mimetype": "text/x-python",
   "name": "python",
   "nbconvert_exporter": "python",
   "pygments_lexer": "ipython3",
   "version": "3.7.2"
  }
 },
 "nbformat": 4,
 "nbformat_minor": 2
}
